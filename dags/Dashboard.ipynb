{
 "cells": [
  {
   "cell_type": "code",
   "execution_count": null,
   "metadata": {},
   "outputs": [],
   "source": [
    "import ipywidgets as widgets\n",
    "from IPython.display import display, clear_output\n",
    "import subprocess\n",
    "\n",
    "# Function to run a shell script\n",
    "def run_shell_script(script_name, *args):\n",
    "    command = ['sh', script_name] + list(args)\n",
    "    result = subprocess.run(command, capture_output=True, text=True)\n",
    "    clear_output(wait=True)\n",
    "    print(result.stdout)\n",
    "    if result.stderr:\n",
    "        print(result.stderr)\n",
    "\n",
    "# Create widgets\n",
    "input_dag_name = widgets.Text(description='DAG Name:')\n",
    "button_create_dag = widgets.Button(description=\"Create DAG\")\n",
    "button_docker_image = widgets.Button(description=\"Build Docker Image\")\n",
    "button_docker_stop = widgets.Button(description=\"Stop Docker\")\n",
    "button_docker_start = widgets.Button(description=\"Start Docker\")\n",
    "\n",
    "# Assign functions to buttons\n",
    "button_create_dag.on_click(lambda b: run_shell_script('/create_dag.sh', input_dag_name.value))\n",
    "button_docker_image.on_click(lambda b: run_shell_script('/docker_image.sh'))\n",
    "button_docker_stop.on_click(lambda b: run_shell_script('/docker_stop.sh'))\n",
    "button_docker_start.on_click(lambda b: run_shell_script('/docker_start.sh'))\n",
    "\n",
    "# Display widgets\n",
    "display(input_dag_name)\n",
    "display(button_create_dag)\n",
    "display(button_docker_image)\n",
    "display(button_docker_stop)\n",
    "display(button_docker_start)\n"
   ]
  }
 ],
 "metadata": {
  "language_info": {
   "name": "python"
  }
 },
 "nbformat": 4,
 "nbformat_minor": 2
}
